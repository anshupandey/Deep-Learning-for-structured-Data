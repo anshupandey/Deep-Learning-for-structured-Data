{
  "nbformat": 4,
  "nbformat_minor": 0,
  "metadata": {
    "accelerator": "GPU",
    "colab": {
      "name": "code_multi_variate_timeseries_forecasting.ipynb",
      "provenance": [],
      "collapsed_sections": [],
      "include_colab_link": true
    },
    "kernelspec": {
      "display_name": "Python 3",
      "name": "python3"
    },
    "language_info": {
      "name": "python"
    }
  },
  "cells": [
    {
      "cell_type": "markdown",
      "metadata": {
        "id": "view-in-github",
        "colab_type": "text"
      },
      "source": [
        "<a href=\"https://colab.research.google.com/github/anshupandey/Deep-Learning-for-structured-Data/blob/main/code_multi_variate_timeseries_forecasting.ipynb\" target=\"_parent\"><img src=\"https://colab.research.google.com/assets/colab-badge.svg\" alt=\"Open In Colab\"/></a>"
      ]
    },
    {
      "cell_type": "markdown",
      "metadata": {
        "id": "CTyAXAMocJ2G"
      },
      "source": [
        "# Multivariate times series forecasting"
      ]
    },
    {
      "cell_type": "markdown",
      "metadata": {
        "id": "Bzs8hZmMce5b"
      },
      "source": [
        "\n",
        "\n",
        "```\n",
        "No: row number\n",
        "year: year of data in this row\n",
        "month: month of data in this row\n",
        "day: day of data in this row\n",
        "hour: hour of data in this row\n",
        "pm2.5: PM2.5 concentration\n",
        "DEWP: Dew Point\n",
        "TEMP: Temperature\n",
        "PRES: Pressure\n",
        "cbwd: Combined wind direction\n",
        "Iws: Cumulated wind speed\n",
        "Is: Cumulated hours of snow\n",
        "Ir: Cumulated hours of rain\n",
        "\n",
        "```\n",
        "\n"
      ]
    },
    {
      "cell_type": "code",
      "metadata": {
        "id": "jX4YjywUcJhw"
      },
      "source": [
        "!wget -q https://raw.githubusercontent.com/aspdiscovery123/Deep-Learning-for-structure-data/master/pollution.csv"
      ],
      "execution_count": null,
      "outputs": []
    },
    {
      "cell_type": "code",
      "metadata": {
        "id": "60atUG7ubwwe"
      },
      "source": [
        "import pandas as pd\n",
        "import numpy as np\n",
        "import matplotlib.pyplot as plt\n",
        "from datetime import datetime as dt"
      ],
      "execution_count": null,
      "outputs": []
    },
    {
      "cell_type": "code",
      "metadata": {
        "id": "W0N-bFcedmg9"
      },
      "source": [
        "def parse(x):\n",
        "  return dt.strptime(x, '%Y %m %d %H')"
      ],
      "execution_count": null,
      "outputs": []
    },
    {
      "cell_type": "code",
      "metadata": {
        "id": "7bt3ZxOccWKF"
      },
      "source": [
        "df = pd.read_csv(\"pollution.csv\",parse_dates=[['year','month','day','hour']],index_col='No',date_parser=parse)\n"
      ],
      "execution_count": null,
      "outputs": []
    },
    {
      "cell_type": "code",
      "metadata": {
        "colab": {
          "base_uri": "https://localhost:8080/"
        },
        "id": "1s2HGTOEcY8y",
        "outputId": "695c34eb-4724-44da-b8e4-22a68b66b507"
      },
      "source": [
        "df.shape"
      ],
      "execution_count": null,
      "outputs": [
        {
          "data": {
            "text/plain": [
              "(43824, 9)"
            ]
          },
          "execution_count": 5,
          "metadata": {},
          "output_type": "execute_result"
        }
      ]
    },
    {
      "cell_type": "code",
      "metadata": {
        "colab": {
          "base_uri": "https://localhost:8080/",
          "height": 237
        },
        "id": "7-_3UwsPcZYw",
        "outputId": "65e84b6d-5229-43d0-d303-7003b0df1e51"
      },
      "source": [
        "df.head()"
      ],
      "execution_count": null,
      "outputs": [
        {
          "data": {
            "text/html": [
              "<div>\n",
              "<style scoped>\n",
              "    .dataframe tbody tr th:only-of-type {\n",
              "        vertical-align: middle;\n",
              "    }\n",
              "\n",
              "    .dataframe tbody tr th {\n",
              "        vertical-align: top;\n",
              "    }\n",
              "\n",
              "    .dataframe thead th {\n",
              "        text-align: right;\n",
              "    }\n",
              "</style>\n",
              "<table border=\"1\" class=\"dataframe\">\n",
              "  <thead>\n",
              "    <tr style=\"text-align: right;\">\n",
              "      <th></th>\n",
              "      <th>year_month_day_hour</th>\n",
              "      <th>pm2.5</th>\n",
              "      <th>DEWP</th>\n",
              "      <th>TEMP</th>\n",
              "      <th>PRES</th>\n",
              "      <th>cbwd</th>\n",
              "      <th>Iws</th>\n",
              "      <th>Is</th>\n",
              "      <th>Ir</th>\n",
              "    </tr>\n",
              "    <tr>\n",
              "      <th>No</th>\n",
              "      <th></th>\n",
              "      <th></th>\n",
              "      <th></th>\n",
              "      <th></th>\n",
              "      <th></th>\n",
              "      <th></th>\n",
              "      <th></th>\n",
              "      <th></th>\n",
              "      <th></th>\n",
              "    </tr>\n",
              "  </thead>\n",
              "  <tbody>\n",
              "    <tr>\n",
              "      <th>1</th>\n",
              "      <td>2010-01-01 00:00:00</td>\n",
              "      <td>NaN</td>\n",
              "      <td>-21</td>\n",
              "      <td>-11.0</td>\n",
              "      <td>1021.0</td>\n",
              "      <td>NW</td>\n",
              "      <td>1.79</td>\n",
              "      <td>0</td>\n",
              "      <td>0</td>\n",
              "    </tr>\n",
              "    <tr>\n",
              "      <th>2</th>\n",
              "      <td>2010-01-01 01:00:00</td>\n",
              "      <td>NaN</td>\n",
              "      <td>-21</td>\n",
              "      <td>-12.0</td>\n",
              "      <td>1020.0</td>\n",
              "      <td>NW</td>\n",
              "      <td>4.92</td>\n",
              "      <td>0</td>\n",
              "      <td>0</td>\n",
              "    </tr>\n",
              "    <tr>\n",
              "      <th>3</th>\n",
              "      <td>2010-01-01 02:00:00</td>\n",
              "      <td>NaN</td>\n",
              "      <td>-21</td>\n",
              "      <td>-11.0</td>\n",
              "      <td>1019.0</td>\n",
              "      <td>NW</td>\n",
              "      <td>6.71</td>\n",
              "      <td>0</td>\n",
              "      <td>0</td>\n",
              "    </tr>\n",
              "    <tr>\n",
              "      <th>4</th>\n",
              "      <td>2010-01-01 03:00:00</td>\n",
              "      <td>NaN</td>\n",
              "      <td>-21</td>\n",
              "      <td>-14.0</td>\n",
              "      <td>1019.0</td>\n",
              "      <td>NW</td>\n",
              "      <td>9.84</td>\n",
              "      <td>0</td>\n",
              "      <td>0</td>\n",
              "    </tr>\n",
              "    <tr>\n",
              "      <th>5</th>\n",
              "      <td>2010-01-01 04:00:00</td>\n",
              "      <td>NaN</td>\n",
              "      <td>-20</td>\n",
              "      <td>-12.0</td>\n",
              "      <td>1018.0</td>\n",
              "      <td>NW</td>\n",
              "      <td>12.97</td>\n",
              "      <td>0</td>\n",
              "      <td>0</td>\n",
              "    </tr>\n",
              "  </tbody>\n",
              "</table>\n",
              "</div>"
            ],
            "text/plain": [
              "   year_month_day_hour  pm2.5  DEWP  TEMP    PRES cbwd    Iws  Is  Ir\n",
              "No                                                                   \n",
              "1  2010-01-01 00:00:00    NaN   -21 -11.0  1021.0   NW   1.79   0   0\n",
              "2  2010-01-01 01:00:00    NaN   -21 -12.0  1020.0   NW   4.92   0   0\n",
              "3  2010-01-01 02:00:00    NaN   -21 -11.0  1019.0   NW   6.71   0   0\n",
              "4  2010-01-01 03:00:00    NaN   -21 -14.0  1019.0   NW   9.84   0   0\n",
              "5  2010-01-01 04:00:00    NaN   -20 -12.0  1018.0   NW  12.97   0   0"
            ]
          },
          "execution_count": 6,
          "metadata": {},
          "output_type": "execute_result"
        }
      ]
    },
    {
      "cell_type": "code",
      "metadata": {
        "colab": {
          "base_uri": "https://localhost:8080/"
        },
        "id": "O3QhVuPkcbow",
        "outputId": "6b9be8e5-09f1-4b79-c27e-006c74cf7376"
      },
      "source": [
        "df['pm2.5'].isnull().sum()"
      ],
      "execution_count": null,
      "outputs": [
        {
          "data": {
            "text/plain": [
              "2067"
            ]
          },
          "execution_count": 7,
          "metadata": {},
          "output_type": "execute_result"
        }
      ]
    },
    {
      "cell_type": "code",
      "metadata": {
        "colab": {
          "base_uri": "https://localhost:8080/",
          "height": 1000
        },
        "id": "ewORvJWXeQox",
        "outputId": "c540736e-f1a9-46bf-ac2d-1e2f63300fbe"
      },
      "source": [
        "df.head(30)"
      ],
      "execution_count": null,
      "outputs": [
        {
          "data": {
            "text/html": [
              "<div>\n",
              "<style scoped>\n",
              "    .dataframe tbody tr th:only-of-type {\n",
              "        vertical-align: middle;\n",
              "    }\n",
              "\n",
              "    .dataframe tbody tr th {\n",
              "        vertical-align: top;\n",
              "    }\n",
              "\n",
              "    .dataframe thead th {\n",
              "        text-align: right;\n",
              "    }\n",
              "</style>\n",
              "<table border=\"1\" class=\"dataframe\">\n",
              "  <thead>\n",
              "    <tr style=\"text-align: right;\">\n",
              "      <th></th>\n",
              "      <th>year_month_day_hour</th>\n",
              "      <th>pm2.5</th>\n",
              "      <th>DEWP</th>\n",
              "      <th>TEMP</th>\n",
              "      <th>PRES</th>\n",
              "      <th>cbwd</th>\n",
              "      <th>Iws</th>\n",
              "      <th>Is</th>\n",
              "      <th>Ir</th>\n",
              "    </tr>\n",
              "    <tr>\n",
              "      <th>No</th>\n",
              "      <th></th>\n",
              "      <th></th>\n",
              "      <th></th>\n",
              "      <th></th>\n",
              "      <th></th>\n",
              "      <th></th>\n",
              "      <th></th>\n",
              "      <th></th>\n",
              "      <th></th>\n",
              "    </tr>\n",
              "  </thead>\n",
              "  <tbody>\n",
              "    <tr>\n",
              "      <th>1</th>\n",
              "      <td>2010-01-01 00:00:00</td>\n",
              "      <td>NaN</td>\n",
              "      <td>-21</td>\n",
              "      <td>-11.0</td>\n",
              "      <td>1021.0</td>\n",
              "      <td>NW</td>\n",
              "      <td>1.79</td>\n",
              "      <td>0</td>\n",
              "      <td>0</td>\n",
              "    </tr>\n",
              "    <tr>\n",
              "      <th>2</th>\n",
              "      <td>2010-01-01 01:00:00</td>\n",
              "      <td>NaN</td>\n",
              "      <td>-21</td>\n",
              "      <td>-12.0</td>\n",
              "      <td>1020.0</td>\n",
              "      <td>NW</td>\n",
              "      <td>4.92</td>\n",
              "      <td>0</td>\n",
              "      <td>0</td>\n",
              "    </tr>\n",
              "    <tr>\n",
              "      <th>3</th>\n",
              "      <td>2010-01-01 02:00:00</td>\n",
              "      <td>NaN</td>\n",
              "      <td>-21</td>\n",
              "      <td>-11.0</td>\n",
              "      <td>1019.0</td>\n",
              "      <td>NW</td>\n",
              "      <td>6.71</td>\n",
              "      <td>0</td>\n",
              "      <td>0</td>\n",
              "    </tr>\n",
              "    <tr>\n",
              "      <th>4</th>\n",
              "      <td>2010-01-01 03:00:00</td>\n",
              "      <td>NaN</td>\n",
              "      <td>-21</td>\n",
              "      <td>-14.0</td>\n",
              "      <td>1019.0</td>\n",
              "      <td>NW</td>\n",
              "      <td>9.84</td>\n",
              "      <td>0</td>\n",
              "      <td>0</td>\n",
              "    </tr>\n",
              "    <tr>\n",
              "      <th>5</th>\n",
              "      <td>2010-01-01 04:00:00</td>\n",
              "      <td>NaN</td>\n",
              "      <td>-20</td>\n",
              "      <td>-12.0</td>\n",
              "      <td>1018.0</td>\n",
              "      <td>NW</td>\n",
              "      <td>12.97</td>\n",
              "      <td>0</td>\n",
              "      <td>0</td>\n",
              "    </tr>\n",
              "    <tr>\n",
              "      <th>6</th>\n",
              "      <td>2010-01-01 05:00:00</td>\n",
              "      <td>NaN</td>\n",
              "      <td>-19</td>\n",
              "      <td>-10.0</td>\n",
              "      <td>1017.0</td>\n",
              "      <td>NW</td>\n",
              "      <td>16.10</td>\n",
              "      <td>0</td>\n",
              "      <td>0</td>\n",
              "    </tr>\n",
              "    <tr>\n",
              "      <th>7</th>\n",
              "      <td>2010-01-01 06:00:00</td>\n",
              "      <td>NaN</td>\n",
              "      <td>-19</td>\n",
              "      <td>-9.0</td>\n",
              "      <td>1017.0</td>\n",
              "      <td>NW</td>\n",
              "      <td>19.23</td>\n",
              "      <td>0</td>\n",
              "      <td>0</td>\n",
              "    </tr>\n",
              "    <tr>\n",
              "      <th>8</th>\n",
              "      <td>2010-01-01 07:00:00</td>\n",
              "      <td>NaN</td>\n",
              "      <td>-19</td>\n",
              "      <td>-9.0</td>\n",
              "      <td>1017.0</td>\n",
              "      <td>NW</td>\n",
              "      <td>21.02</td>\n",
              "      <td>0</td>\n",
              "      <td>0</td>\n",
              "    </tr>\n",
              "    <tr>\n",
              "      <th>9</th>\n",
              "      <td>2010-01-01 08:00:00</td>\n",
              "      <td>NaN</td>\n",
              "      <td>-19</td>\n",
              "      <td>-9.0</td>\n",
              "      <td>1017.0</td>\n",
              "      <td>NW</td>\n",
              "      <td>24.15</td>\n",
              "      <td>0</td>\n",
              "      <td>0</td>\n",
              "    </tr>\n",
              "    <tr>\n",
              "      <th>10</th>\n",
              "      <td>2010-01-01 09:00:00</td>\n",
              "      <td>NaN</td>\n",
              "      <td>-20</td>\n",
              "      <td>-8.0</td>\n",
              "      <td>1017.0</td>\n",
              "      <td>NW</td>\n",
              "      <td>27.28</td>\n",
              "      <td>0</td>\n",
              "      <td>0</td>\n",
              "    </tr>\n",
              "    <tr>\n",
              "      <th>11</th>\n",
              "      <td>2010-01-01 10:00:00</td>\n",
              "      <td>NaN</td>\n",
              "      <td>-19</td>\n",
              "      <td>-7.0</td>\n",
              "      <td>1017.0</td>\n",
              "      <td>NW</td>\n",
              "      <td>31.30</td>\n",
              "      <td>0</td>\n",
              "      <td>0</td>\n",
              "    </tr>\n",
              "    <tr>\n",
              "      <th>12</th>\n",
              "      <td>2010-01-01 11:00:00</td>\n",
              "      <td>NaN</td>\n",
              "      <td>-18</td>\n",
              "      <td>-5.0</td>\n",
              "      <td>1017.0</td>\n",
              "      <td>NW</td>\n",
              "      <td>34.43</td>\n",
              "      <td>0</td>\n",
              "      <td>0</td>\n",
              "    </tr>\n",
              "    <tr>\n",
              "      <th>13</th>\n",
              "      <td>2010-01-01 12:00:00</td>\n",
              "      <td>NaN</td>\n",
              "      <td>-19</td>\n",
              "      <td>-5.0</td>\n",
              "      <td>1015.0</td>\n",
              "      <td>NW</td>\n",
              "      <td>37.56</td>\n",
              "      <td>0</td>\n",
              "      <td>0</td>\n",
              "    </tr>\n",
              "    <tr>\n",
              "      <th>14</th>\n",
              "      <td>2010-01-01 13:00:00</td>\n",
              "      <td>NaN</td>\n",
              "      <td>-18</td>\n",
              "      <td>-3.0</td>\n",
              "      <td>1015.0</td>\n",
              "      <td>NW</td>\n",
              "      <td>40.69</td>\n",
              "      <td>0</td>\n",
              "      <td>0</td>\n",
              "    </tr>\n",
              "    <tr>\n",
              "      <th>15</th>\n",
              "      <td>2010-01-01 14:00:00</td>\n",
              "      <td>NaN</td>\n",
              "      <td>-18</td>\n",
              "      <td>-2.0</td>\n",
              "      <td>1014.0</td>\n",
              "      <td>NW</td>\n",
              "      <td>43.82</td>\n",
              "      <td>0</td>\n",
              "      <td>0</td>\n",
              "    </tr>\n",
              "    <tr>\n",
              "      <th>16</th>\n",
              "      <td>2010-01-01 15:00:00</td>\n",
              "      <td>NaN</td>\n",
              "      <td>-18</td>\n",
              "      <td>-1.0</td>\n",
              "      <td>1014.0</td>\n",
              "      <td>cv</td>\n",
              "      <td>0.89</td>\n",
              "      <td>0</td>\n",
              "      <td>0</td>\n",
              "    </tr>\n",
              "    <tr>\n",
              "      <th>17</th>\n",
              "      <td>2010-01-01 16:00:00</td>\n",
              "      <td>NaN</td>\n",
              "      <td>-19</td>\n",
              "      <td>-2.0</td>\n",
              "      <td>1015.0</td>\n",
              "      <td>NW</td>\n",
              "      <td>1.79</td>\n",
              "      <td>0</td>\n",
              "      <td>0</td>\n",
              "    </tr>\n",
              "    <tr>\n",
              "      <th>18</th>\n",
              "      <td>2010-01-01 17:00:00</td>\n",
              "      <td>NaN</td>\n",
              "      <td>-18</td>\n",
              "      <td>-3.0</td>\n",
              "      <td>1015.0</td>\n",
              "      <td>NW</td>\n",
              "      <td>2.68</td>\n",
              "      <td>0</td>\n",
              "      <td>0</td>\n",
              "    </tr>\n",
              "    <tr>\n",
              "      <th>19</th>\n",
              "      <td>2010-01-01 18:00:00</td>\n",
              "      <td>NaN</td>\n",
              "      <td>-18</td>\n",
              "      <td>-5.0</td>\n",
              "      <td>1016.0</td>\n",
              "      <td>NE</td>\n",
              "      <td>1.79</td>\n",
              "      <td>0</td>\n",
              "      <td>0</td>\n",
              "    </tr>\n",
              "    <tr>\n",
              "      <th>20</th>\n",
              "      <td>2010-01-01 19:00:00</td>\n",
              "      <td>NaN</td>\n",
              "      <td>-17</td>\n",
              "      <td>-4.0</td>\n",
              "      <td>1017.0</td>\n",
              "      <td>NW</td>\n",
              "      <td>1.79</td>\n",
              "      <td>0</td>\n",
              "      <td>0</td>\n",
              "    </tr>\n",
              "    <tr>\n",
              "      <th>21</th>\n",
              "      <td>2010-01-01 20:00:00</td>\n",
              "      <td>NaN</td>\n",
              "      <td>-17</td>\n",
              "      <td>-5.0</td>\n",
              "      <td>1017.0</td>\n",
              "      <td>cv</td>\n",
              "      <td>0.89</td>\n",
              "      <td>0</td>\n",
              "      <td>0</td>\n",
              "    </tr>\n",
              "    <tr>\n",
              "      <th>22</th>\n",
              "      <td>2010-01-01 21:00:00</td>\n",
              "      <td>NaN</td>\n",
              "      <td>-17</td>\n",
              "      <td>-5.0</td>\n",
              "      <td>1018.0</td>\n",
              "      <td>NW</td>\n",
              "      <td>1.79</td>\n",
              "      <td>0</td>\n",
              "      <td>0</td>\n",
              "    </tr>\n",
              "    <tr>\n",
              "      <th>23</th>\n",
              "      <td>2010-01-01 22:00:00</td>\n",
              "      <td>NaN</td>\n",
              "      <td>-17</td>\n",
              "      <td>-5.0</td>\n",
              "      <td>1018.0</td>\n",
              "      <td>NW</td>\n",
              "      <td>2.68</td>\n",
              "      <td>0</td>\n",
              "      <td>0</td>\n",
              "    </tr>\n",
              "    <tr>\n",
              "      <th>24</th>\n",
              "      <td>2010-01-01 23:00:00</td>\n",
              "      <td>NaN</td>\n",
              "      <td>-17</td>\n",
              "      <td>-5.0</td>\n",
              "      <td>1020.0</td>\n",
              "      <td>cv</td>\n",
              "      <td>0.89</td>\n",
              "      <td>0</td>\n",
              "      <td>0</td>\n",
              "    </tr>\n",
              "    <tr>\n",
              "      <th>25</th>\n",
              "      <td>2010-01-02 00:00:00</td>\n",
              "      <td>129.0</td>\n",
              "      <td>-16</td>\n",
              "      <td>-4.0</td>\n",
              "      <td>1020.0</td>\n",
              "      <td>SE</td>\n",
              "      <td>1.79</td>\n",
              "      <td>0</td>\n",
              "      <td>0</td>\n",
              "    </tr>\n",
              "    <tr>\n",
              "      <th>26</th>\n",
              "      <td>2010-01-02 01:00:00</td>\n",
              "      <td>148.0</td>\n",
              "      <td>-15</td>\n",
              "      <td>-4.0</td>\n",
              "      <td>1020.0</td>\n",
              "      <td>SE</td>\n",
              "      <td>2.68</td>\n",
              "      <td>0</td>\n",
              "      <td>0</td>\n",
              "    </tr>\n",
              "    <tr>\n",
              "      <th>27</th>\n",
              "      <td>2010-01-02 02:00:00</td>\n",
              "      <td>159.0</td>\n",
              "      <td>-11</td>\n",
              "      <td>-5.0</td>\n",
              "      <td>1021.0</td>\n",
              "      <td>SE</td>\n",
              "      <td>3.57</td>\n",
              "      <td>0</td>\n",
              "      <td>0</td>\n",
              "    </tr>\n",
              "    <tr>\n",
              "      <th>28</th>\n",
              "      <td>2010-01-02 03:00:00</td>\n",
              "      <td>181.0</td>\n",
              "      <td>-7</td>\n",
              "      <td>-5.0</td>\n",
              "      <td>1022.0</td>\n",
              "      <td>SE</td>\n",
              "      <td>5.36</td>\n",
              "      <td>1</td>\n",
              "      <td>0</td>\n",
              "    </tr>\n",
              "    <tr>\n",
              "      <th>29</th>\n",
              "      <td>2010-01-02 04:00:00</td>\n",
              "      <td>138.0</td>\n",
              "      <td>-7</td>\n",
              "      <td>-5.0</td>\n",
              "      <td>1022.0</td>\n",
              "      <td>SE</td>\n",
              "      <td>6.25</td>\n",
              "      <td>2</td>\n",
              "      <td>0</td>\n",
              "    </tr>\n",
              "    <tr>\n",
              "      <th>30</th>\n",
              "      <td>2010-01-02 05:00:00</td>\n",
              "      <td>109.0</td>\n",
              "      <td>-7</td>\n",
              "      <td>-6.0</td>\n",
              "      <td>1022.0</td>\n",
              "      <td>SE</td>\n",
              "      <td>7.14</td>\n",
              "      <td>3</td>\n",
              "      <td>0</td>\n",
              "    </tr>\n",
              "  </tbody>\n",
              "</table>\n",
              "</div>"
            ],
            "text/plain": [
              "   year_month_day_hour  pm2.5  DEWP  TEMP    PRES cbwd    Iws  Is  Ir\n",
              "No                                                                   \n",
              "1  2010-01-01 00:00:00    NaN   -21 -11.0  1021.0   NW   1.79   0   0\n",
              "2  2010-01-01 01:00:00    NaN   -21 -12.0  1020.0   NW   4.92   0   0\n",
              "3  2010-01-01 02:00:00    NaN   -21 -11.0  1019.0   NW   6.71   0   0\n",
              "4  2010-01-01 03:00:00    NaN   -21 -14.0  1019.0   NW   9.84   0   0\n",
              "5  2010-01-01 04:00:00    NaN   -20 -12.0  1018.0   NW  12.97   0   0\n",
              "6  2010-01-01 05:00:00    NaN   -19 -10.0  1017.0   NW  16.10   0   0\n",
              "7  2010-01-01 06:00:00    NaN   -19  -9.0  1017.0   NW  19.23   0   0\n",
              "8  2010-01-01 07:00:00    NaN   -19  -9.0  1017.0   NW  21.02   0   0\n",
              "9  2010-01-01 08:00:00    NaN   -19  -9.0  1017.0   NW  24.15   0   0\n",
              "10 2010-01-01 09:00:00    NaN   -20  -8.0  1017.0   NW  27.28   0   0\n",
              "11 2010-01-01 10:00:00    NaN   -19  -7.0  1017.0   NW  31.30   0   0\n",
              "12 2010-01-01 11:00:00    NaN   -18  -5.0  1017.0   NW  34.43   0   0\n",
              "13 2010-01-01 12:00:00    NaN   -19  -5.0  1015.0   NW  37.56   0   0\n",
              "14 2010-01-01 13:00:00    NaN   -18  -3.0  1015.0   NW  40.69   0   0\n",
              "15 2010-01-01 14:00:00    NaN   -18  -2.0  1014.0   NW  43.82   0   0\n",
              "16 2010-01-01 15:00:00    NaN   -18  -1.0  1014.0   cv   0.89   0   0\n",
              "17 2010-01-01 16:00:00    NaN   -19  -2.0  1015.0   NW   1.79   0   0\n",
              "18 2010-01-01 17:00:00    NaN   -18  -3.0  1015.0   NW   2.68   0   0\n",
              "19 2010-01-01 18:00:00    NaN   -18  -5.0  1016.0   NE   1.79   0   0\n",
              "20 2010-01-01 19:00:00    NaN   -17  -4.0  1017.0   NW   1.79   0   0\n",
              "21 2010-01-01 20:00:00    NaN   -17  -5.0  1017.0   cv   0.89   0   0\n",
              "22 2010-01-01 21:00:00    NaN   -17  -5.0  1018.0   NW   1.79   0   0\n",
              "23 2010-01-01 22:00:00    NaN   -17  -5.0  1018.0   NW   2.68   0   0\n",
              "24 2010-01-01 23:00:00    NaN   -17  -5.0  1020.0   cv   0.89   0   0\n",
              "25 2010-01-02 00:00:00  129.0   -16  -4.0  1020.0   SE   1.79   0   0\n",
              "26 2010-01-02 01:00:00  148.0   -15  -4.0  1020.0   SE   2.68   0   0\n",
              "27 2010-01-02 02:00:00  159.0   -11  -5.0  1021.0   SE   3.57   0   0\n",
              "28 2010-01-02 03:00:00  181.0    -7  -5.0  1022.0   SE   5.36   1   0\n",
              "29 2010-01-02 04:00:00  138.0    -7  -5.0  1022.0   SE   6.25   2   0\n",
              "30 2010-01-02 05:00:00  109.0    -7  -6.0  1022.0   SE   7.14   3   0"
            ]
          },
          "execution_count": 8,
          "metadata": {},
          "output_type": "execute_result"
        }
      ]
    },
    {
      "cell_type": "code",
      "metadata": {
        "colab": {
          "base_uri": "https://localhost:8080/"
        },
        "id": "t1sSq0HVebjM",
        "outputId": "06ae5606-6c72-4c5f-9bd6-ebadc7b5e405"
      },
      "source": [
        "df = df[24:]\n",
        "df.shape"
      ],
      "execution_count": null,
      "outputs": [
        {
          "data": {
            "text/plain": [
              "(43800, 9)"
            ]
          },
          "execution_count": 9,
          "metadata": {},
          "output_type": "execute_result"
        }
      ]
    },
    {
      "cell_type": "code",
      "metadata": {
        "colab": {
          "base_uri": "https://localhost:8080/",
          "height": 237
        },
        "id": "JR_kGbMGerfh",
        "outputId": "bad2142f-9e7e-47c2-c90f-42860317b128"
      },
      "source": [
        "df.head()"
      ],
      "execution_count": null,
      "outputs": [
        {
          "data": {
            "text/html": [
              "<div>\n",
              "<style scoped>\n",
              "    .dataframe tbody tr th:only-of-type {\n",
              "        vertical-align: middle;\n",
              "    }\n",
              "\n",
              "    .dataframe tbody tr th {\n",
              "        vertical-align: top;\n",
              "    }\n",
              "\n",
              "    .dataframe thead th {\n",
              "        text-align: right;\n",
              "    }\n",
              "</style>\n",
              "<table border=\"1\" class=\"dataframe\">\n",
              "  <thead>\n",
              "    <tr style=\"text-align: right;\">\n",
              "      <th></th>\n",
              "      <th>year_month_day_hour</th>\n",
              "      <th>pm2.5</th>\n",
              "      <th>DEWP</th>\n",
              "      <th>TEMP</th>\n",
              "      <th>PRES</th>\n",
              "      <th>cbwd</th>\n",
              "      <th>Iws</th>\n",
              "      <th>Is</th>\n",
              "      <th>Ir</th>\n",
              "    </tr>\n",
              "    <tr>\n",
              "      <th>No</th>\n",
              "      <th></th>\n",
              "      <th></th>\n",
              "      <th></th>\n",
              "      <th></th>\n",
              "      <th></th>\n",
              "      <th></th>\n",
              "      <th></th>\n",
              "      <th></th>\n",
              "      <th></th>\n",
              "    </tr>\n",
              "  </thead>\n",
              "  <tbody>\n",
              "    <tr>\n",
              "      <th>25</th>\n",
              "      <td>2010-01-02 00:00:00</td>\n",
              "      <td>129.0</td>\n",
              "      <td>-16</td>\n",
              "      <td>-4.0</td>\n",
              "      <td>1020.0</td>\n",
              "      <td>SE</td>\n",
              "      <td>1.79</td>\n",
              "      <td>0</td>\n",
              "      <td>0</td>\n",
              "    </tr>\n",
              "    <tr>\n",
              "      <th>26</th>\n",
              "      <td>2010-01-02 01:00:00</td>\n",
              "      <td>148.0</td>\n",
              "      <td>-15</td>\n",
              "      <td>-4.0</td>\n",
              "      <td>1020.0</td>\n",
              "      <td>SE</td>\n",
              "      <td>2.68</td>\n",
              "      <td>0</td>\n",
              "      <td>0</td>\n",
              "    </tr>\n",
              "    <tr>\n",
              "      <th>27</th>\n",
              "      <td>2010-01-02 02:00:00</td>\n",
              "      <td>159.0</td>\n",
              "      <td>-11</td>\n",
              "      <td>-5.0</td>\n",
              "      <td>1021.0</td>\n",
              "      <td>SE</td>\n",
              "      <td>3.57</td>\n",
              "      <td>0</td>\n",
              "      <td>0</td>\n",
              "    </tr>\n",
              "    <tr>\n",
              "      <th>28</th>\n",
              "      <td>2010-01-02 03:00:00</td>\n",
              "      <td>181.0</td>\n",
              "      <td>-7</td>\n",
              "      <td>-5.0</td>\n",
              "      <td>1022.0</td>\n",
              "      <td>SE</td>\n",
              "      <td>5.36</td>\n",
              "      <td>1</td>\n",
              "      <td>0</td>\n",
              "    </tr>\n",
              "    <tr>\n",
              "      <th>29</th>\n",
              "      <td>2010-01-02 04:00:00</td>\n",
              "      <td>138.0</td>\n",
              "      <td>-7</td>\n",
              "      <td>-5.0</td>\n",
              "      <td>1022.0</td>\n",
              "      <td>SE</td>\n",
              "      <td>6.25</td>\n",
              "      <td>2</td>\n",
              "      <td>0</td>\n",
              "    </tr>\n",
              "  </tbody>\n",
              "</table>\n",
              "</div>"
            ],
            "text/plain": [
              "   year_month_day_hour  pm2.5  DEWP  TEMP    PRES cbwd   Iws  Is  Ir\n",
              "No                                                                  \n",
              "25 2010-01-02 00:00:00  129.0   -16  -4.0  1020.0   SE  1.79   0   0\n",
              "26 2010-01-02 01:00:00  148.0   -15  -4.0  1020.0   SE  2.68   0   0\n",
              "27 2010-01-02 02:00:00  159.0   -11  -5.0  1021.0   SE  3.57   0   0\n",
              "28 2010-01-02 03:00:00  181.0    -7  -5.0  1022.0   SE  5.36   1   0\n",
              "29 2010-01-02 04:00:00  138.0    -7  -5.0  1022.0   SE  6.25   2   0"
            ]
          },
          "execution_count": 10,
          "metadata": {},
          "output_type": "execute_result"
        }
      ]
    },
    {
      "cell_type": "code",
      "metadata": {
        "colab": {
          "base_uri": "https://localhost:8080/"
        },
        "id": "W64UX_SGeso4",
        "outputId": "c0babef4-8bed-4586-c5a5-1a928dd0f022"
      },
      "source": [
        "df.fillna(0,inplace=True)\n",
        "df.isnull().sum()"
      ],
      "execution_count": null,
      "outputs": [
        {
          "data": {
            "text/plain": [
              "year_month_day_hour    0\n",
              "pm2.5                  0\n",
              "DEWP                   0\n",
              "TEMP                   0\n",
              "PRES                   0\n",
              "cbwd                   0\n",
              "Iws                    0\n",
              "Is                     0\n",
              "Ir                     0\n",
              "dtype: int64"
            ]
          },
          "execution_count": 11,
          "metadata": {},
          "output_type": "execute_result"
        }
      ]
    },
    {
      "cell_type": "code",
      "metadata": {
        "colab": {
          "base_uri": "https://localhost:8080/",
          "height": 237
        },
        "id": "4GqYqCz9e092",
        "outputId": "21c1016a-96c1-4595-8d9f-7e10f7cb60ab"
      },
      "source": [
        "df.head()"
      ],
      "execution_count": null,
      "outputs": [
        {
          "data": {
            "text/html": [
              "<div>\n",
              "<style scoped>\n",
              "    .dataframe tbody tr th:only-of-type {\n",
              "        vertical-align: middle;\n",
              "    }\n",
              "\n",
              "    .dataframe tbody tr th {\n",
              "        vertical-align: top;\n",
              "    }\n",
              "\n",
              "    .dataframe thead th {\n",
              "        text-align: right;\n",
              "    }\n",
              "</style>\n",
              "<table border=\"1\" class=\"dataframe\">\n",
              "  <thead>\n",
              "    <tr style=\"text-align: right;\">\n",
              "      <th></th>\n",
              "      <th>year_month_day_hour</th>\n",
              "      <th>pm2.5</th>\n",
              "      <th>DEWP</th>\n",
              "      <th>TEMP</th>\n",
              "      <th>PRES</th>\n",
              "      <th>cbwd</th>\n",
              "      <th>Iws</th>\n",
              "      <th>Is</th>\n",
              "      <th>Ir</th>\n",
              "    </tr>\n",
              "    <tr>\n",
              "      <th>No</th>\n",
              "      <th></th>\n",
              "      <th></th>\n",
              "      <th></th>\n",
              "      <th></th>\n",
              "      <th></th>\n",
              "      <th></th>\n",
              "      <th></th>\n",
              "      <th></th>\n",
              "      <th></th>\n",
              "    </tr>\n",
              "  </thead>\n",
              "  <tbody>\n",
              "    <tr>\n",
              "      <th>25</th>\n",
              "      <td>2010-01-02 00:00:00</td>\n",
              "      <td>129.0</td>\n",
              "      <td>-16</td>\n",
              "      <td>-4.0</td>\n",
              "      <td>1020.0</td>\n",
              "      <td>SE</td>\n",
              "      <td>1.79</td>\n",
              "      <td>0</td>\n",
              "      <td>0</td>\n",
              "    </tr>\n",
              "    <tr>\n",
              "      <th>26</th>\n",
              "      <td>2010-01-02 01:00:00</td>\n",
              "      <td>148.0</td>\n",
              "      <td>-15</td>\n",
              "      <td>-4.0</td>\n",
              "      <td>1020.0</td>\n",
              "      <td>SE</td>\n",
              "      <td>2.68</td>\n",
              "      <td>0</td>\n",
              "      <td>0</td>\n",
              "    </tr>\n",
              "    <tr>\n",
              "      <th>27</th>\n",
              "      <td>2010-01-02 02:00:00</td>\n",
              "      <td>159.0</td>\n",
              "      <td>-11</td>\n",
              "      <td>-5.0</td>\n",
              "      <td>1021.0</td>\n",
              "      <td>SE</td>\n",
              "      <td>3.57</td>\n",
              "      <td>0</td>\n",
              "      <td>0</td>\n",
              "    </tr>\n",
              "    <tr>\n",
              "      <th>28</th>\n",
              "      <td>2010-01-02 03:00:00</td>\n",
              "      <td>181.0</td>\n",
              "      <td>-7</td>\n",
              "      <td>-5.0</td>\n",
              "      <td>1022.0</td>\n",
              "      <td>SE</td>\n",
              "      <td>5.36</td>\n",
              "      <td>1</td>\n",
              "      <td>0</td>\n",
              "    </tr>\n",
              "    <tr>\n",
              "      <th>29</th>\n",
              "      <td>2010-01-02 04:00:00</td>\n",
              "      <td>138.0</td>\n",
              "      <td>-7</td>\n",
              "      <td>-5.0</td>\n",
              "      <td>1022.0</td>\n",
              "      <td>SE</td>\n",
              "      <td>6.25</td>\n",
              "      <td>2</td>\n",
              "      <td>0</td>\n",
              "    </tr>\n",
              "  </tbody>\n",
              "</table>\n",
              "</div>"
            ],
            "text/plain": [
              "   year_month_day_hour  pm2.5  DEWP  TEMP    PRES cbwd   Iws  Is  Ir\n",
              "No                                                                  \n",
              "25 2010-01-02 00:00:00  129.0   -16  -4.0  1020.0   SE  1.79   0   0\n",
              "26 2010-01-02 01:00:00  148.0   -15  -4.0  1020.0   SE  2.68   0   0\n",
              "27 2010-01-02 02:00:00  159.0   -11  -5.0  1021.0   SE  3.57   0   0\n",
              "28 2010-01-02 03:00:00  181.0    -7  -5.0  1022.0   SE  5.36   1   0\n",
              "29 2010-01-02 04:00:00  138.0    -7  -5.0  1022.0   SE  6.25   2   0"
            ]
          },
          "execution_count": 12,
          "metadata": {},
          "output_type": "execute_result"
        }
      ]
    },
    {
      "cell_type": "code",
      "metadata": {
        "colab": {
          "base_uri": "https://localhost:8080/"
        },
        "id": "Lefe623ue6mD",
        "outputId": "f5a49000-f117-4364-b318-5616b9edbcc1"
      },
      "source": [
        "df.cbwd.value_counts()"
      ],
      "execution_count": null,
      "outputs": [
        {
          "data": {
            "text/plain": [
              "SE    15290\n",
              "NW    14130\n",
              "cv     9384\n",
              "NE     4996\n",
              "Name: cbwd, dtype: int64"
            ]
          },
          "execution_count": 13,
          "metadata": {},
          "output_type": "execute_result"
        }
      ]
    },
    {
      "cell_type": "code",
      "metadata": {
        "id": "iIceJHpTgdoh"
      },
      "source": [
        "df2 = df.copy()\n",
        "df2.index = df2.year_month_day_hour\n",
        "df2.drop(columns=['year_month_day_hour'],inplace=True)"
      ],
      "execution_count": null,
      "outputs": []
    },
    {
      "cell_type": "code",
      "metadata": {
        "colab": {
          "base_uri": "https://localhost:8080/",
          "height": 237
        },
        "id": "AEM2806ygqM4",
        "outputId": "01c8a044-1059-4160-9c05-0f953051a636"
      },
      "source": [
        "df2.head()"
      ],
      "execution_count": null,
      "outputs": [
        {
          "data": {
            "text/html": [
              "<div>\n",
              "<style scoped>\n",
              "    .dataframe tbody tr th:only-of-type {\n",
              "        vertical-align: middle;\n",
              "    }\n",
              "\n",
              "    .dataframe tbody tr th {\n",
              "        vertical-align: top;\n",
              "    }\n",
              "\n",
              "    .dataframe thead th {\n",
              "        text-align: right;\n",
              "    }\n",
              "</style>\n",
              "<table border=\"1\" class=\"dataframe\">\n",
              "  <thead>\n",
              "    <tr style=\"text-align: right;\">\n",
              "      <th></th>\n",
              "      <th>pm2.5</th>\n",
              "      <th>DEWP</th>\n",
              "      <th>TEMP</th>\n",
              "      <th>PRES</th>\n",
              "      <th>cbwd</th>\n",
              "      <th>Iws</th>\n",
              "      <th>Is</th>\n",
              "      <th>Ir</th>\n",
              "    </tr>\n",
              "    <tr>\n",
              "      <th>year_month_day_hour</th>\n",
              "      <th></th>\n",
              "      <th></th>\n",
              "      <th></th>\n",
              "      <th></th>\n",
              "      <th></th>\n",
              "      <th></th>\n",
              "      <th></th>\n",
              "      <th></th>\n",
              "    </tr>\n",
              "  </thead>\n",
              "  <tbody>\n",
              "    <tr>\n",
              "      <th>2010-01-02 00:00:00</th>\n",
              "      <td>129.0</td>\n",
              "      <td>-16</td>\n",
              "      <td>-4.0</td>\n",
              "      <td>1020.0</td>\n",
              "      <td>SE</td>\n",
              "      <td>1.79</td>\n",
              "      <td>0</td>\n",
              "      <td>0</td>\n",
              "    </tr>\n",
              "    <tr>\n",
              "      <th>2010-01-02 01:00:00</th>\n",
              "      <td>148.0</td>\n",
              "      <td>-15</td>\n",
              "      <td>-4.0</td>\n",
              "      <td>1020.0</td>\n",
              "      <td>SE</td>\n",
              "      <td>2.68</td>\n",
              "      <td>0</td>\n",
              "      <td>0</td>\n",
              "    </tr>\n",
              "    <tr>\n",
              "      <th>2010-01-02 02:00:00</th>\n",
              "      <td>159.0</td>\n",
              "      <td>-11</td>\n",
              "      <td>-5.0</td>\n",
              "      <td>1021.0</td>\n",
              "      <td>SE</td>\n",
              "      <td>3.57</td>\n",
              "      <td>0</td>\n",
              "      <td>0</td>\n",
              "    </tr>\n",
              "    <tr>\n",
              "      <th>2010-01-02 03:00:00</th>\n",
              "      <td>181.0</td>\n",
              "      <td>-7</td>\n",
              "      <td>-5.0</td>\n",
              "      <td>1022.0</td>\n",
              "      <td>SE</td>\n",
              "      <td>5.36</td>\n",
              "      <td>1</td>\n",
              "      <td>0</td>\n",
              "    </tr>\n",
              "    <tr>\n",
              "      <th>2010-01-02 04:00:00</th>\n",
              "      <td>138.0</td>\n",
              "      <td>-7</td>\n",
              "      <td>-5.0</td>\n",
              "      <td>1022.0</td>\n",
              "      <td>SE</td>\n",
              "      <td>6.25</td>\n",
              "      <td>2</td>\n",
              "      <td>0</td>\n",
              "    </tr>\n",
              "  </tbody>\n",
              "</table>\n",
              "</div>"
            ],
            "text/plain": [
              "                     pm2.5  DEWP  TEMP    PRES cbwd   Iws  Is  Ir\n",
              "year_month_day_hour                                              \n",
              "2010-01-02 00:00:00  129.0   -16  -4.0  1020.0   SE  1.79   0   0\n",
              "2010-01-02 01:00:00  148.0   -15  -4.0  1020.0   SE  2.68   0   0\n",
              "2010-01-02 02:00:00  159.0   -11  -5.0  1021.0   SE  3.57   0   0\n",
              "2010-01-02 03:00:00  181.0    -7  -5.0  1022.0   SE  5.36   1   0\n",
              "2010-01-02 04:00:00  138.0    -7  -5.0  1022.0   SE  6.25   2   0"
            ]
          },
          "execution_count": 15,
          "metadata": {},
          "output_type": "execute_result"
        }
      ]
    },
    {
      "cell_type": "code",
      "metadata": {
        "colab": {
          "base_uri": "https://localhost:8080/",
          "height": 237
        },
        "id": "EJRV32xIhVGc",
        "outputId": "76b69ea2-5f1b-4de8-f078-f0129366c092"
      },
      "source": [
        "y = df2['pm2.5']\n",
        "df2 = df2.shift()\n",
        "df2.head()"
      ],
      "execution_count": null,
      "outputs": [
        {
          "data": {
            "text/html": [
              "<div>\n",
              "<style scoped>\n",
              "    .dataframe tbody tr th:only-of-type {\n",
              "        vertical-align: middle;\n",
              "    }\n",
              "\n",
              "    .dataframe tbody tr th {\n",
              "        vertical-align: top;\n",
              "    }\n",
              "\n",
              "    .dataframe thead th {\n",
              "        text-align: right;\n",
              "    }\n",
              "</style>\n",
              "<table border=\"1\" class=\"dataframe\">\n",
              "  <thead>\n",
              "    <tr style=\"text-align: right;\">\n",
              "      <th></th>\n",
              "      <th>pm2.5</th>\n",
              "      <th>DEWP</th>\n",
              "      <th>TEMP</th>\n",
              "      <th>PRES</th>\n",
              "      <th>cbwd</th>\n",
              "      <th>Iws</th>\n",
              "      <th>Is</th>\n",
              "      <th>Ir</th>\n",
              "    </tr>\n",
              "    <tr>\n",
              "      <th>year_month_day_hour</th>\n",
              "      <th></th>\n",
              "      <th></th>\n",
              "      <th></th>\n",
              "      <th></th>\n",
              "      <th></th>\n",
              "      <th></th>\n",
              "      <th></th>\n",
              "      <th></th>\n",
              "    </tr>\n",
              "  </thead>\n",
              "  <tbody>\n",
              "    <tr>\n",
              "      <th>2010-01-02 00:00:00</th>\n",
              "      <td>NaN</td>\n",
              "      <td>NaN</td>\n",
              "      <td>NaN</td>\n",
              "      <td>NaN</td>\n",
              "      <td>NaN</td>\n",
              "      <td>NaN</td>\n",
              "      <td>NaN</td>\n",
              "      <td>NaN</td>\n",
              "    </tr>\n",
              "    <tr>\n",
              "      <th>2010-01-02 01:00:00</th>\n",
              "      <td>129.0</td>\n",
              "      <td>-16.0</td>\n",
              "      <td>-4.0</td>\n",
              "      <td>1020.0</td>\n",
              "      <td>SE</td>\n",
              "      <td>1.79</td>\n",
              "      <td>0.0</td>\n",
              "      <td>0.0</td>\n",
              "    </tr>\n",
              "    <tr>\n",
              "      <th>2010-01-02 02:00:00</th>\n",
              "      <td>148.0</td>\n",
              "      <td>-15.0</td>\n",
              "      <td>-4.0</td>\n",
              "      <td>1020.0</td>\n",
              "      <td>SE</td>\n",
              "      <td>2.68</td>\n",
              "      <td>0.0</td>\n",
              "      <td>0.0</td>\n",
              "    </tr>\n",
              "    <tr>\n",
              "      <th>2010-01-02 03:00:00</th>\n",
              "      <td>159.0</td>\n",
              "      <td>-11.0</td>\n",
              "      <td>-5.0</td>\n",
              "      <td>1021.0</td>\n",
              "      <td>SE</td>\n",
              "      <td>3.57</td>\n",
              "      <td>0.0</td>\n",
              "      <td>0.0</td>\n",
              "    </tr>\n",
              "    <tr>\n",
              "      <th>2010-01-02 04:00:00</th>\n",
              "      <td>181.0</td>\n",
              "      <td>-7.0</td>\n",
              "      <td>-5.0</td>\n",
              "      <td>1022.0</td>\n",
              "      <td>SE</td>\n",
              "      <td>5.36</td>\n",
              "      <td>1.0</td>\n",
              "      <td>0.0</td>\n",
              "    </tr>\n",
              "  </tbody>\n",
              "</table>\n",
              "</div>"
            ],
            "text/plain": [
              "                     pm2.5  DEWP  TEMP    PRES cbwd   Iws   Is   Ir\n",
              "year_month_day_hour                                                \n",
              "2010-01-02 00:00:00    NaN   NaN   NaN     NaN  NaN   NaN  NaN  NaN\n",
              "2010-01-02 01:00:00  129.0 -16.0  -4.0  1020.0   SE  1.79  0.0  0.0\n",
              "2010-01-02 02:00:00  148.0 -15.0  -4.0  1020.0   SE  2.68  0.0  0.0\n",
              "2010-01-02 03:00:00  159.0 -11.0  -5.0  1021.0   SE  3.57  0.0  0.0\n",
              "2010-01-02 04:00:00  181.0  -7.0  -5.0  1022.0   SE  5.36  1.0  0.0"
            ]
          },
          "execution_count": 16,
          "metadata": {},
          "output_type": "execute_result"
        }
      ]
    },
    {
      "cell_type": "code",
      "metadata": {
        "colab": {
          "base_uri": "https://localhost:8080/",
          "height": 237
        },
        "id": "ue4AofVSiwRX",
        "outputId": "bf9bc9d1-545b-43d9-aa1a-66848448a47b"
      },
      "source": [
        "df2.dropna(inplace=True)\n",
        "df2.head()"
      ],
      "execution_count": null,
      "outputs": [
        {
          "data": {
            "text/html": [
              "<div>\n",
              "<style scoped>\n",
              "    .dataframe tbody tr th:only-of-type {\n",
              "        vertical-align: middle;\n",
              "    }\n",
              "\n",
              "    .dataframe tbody tr th {\n",
              "        vertical-align: top;\n",
              "    }\n",
              "\n",
              "    .dataframe thead th {\n",
              "        text-align: right;\n",
              "    }\n",
              "</style>\n",
              "<table border=\"1\" class=\"dataframe\">\n",
              "  <thead>\n",
              "    <tr style=\"text-align: right;\">\n",
              "      <th></th>\n",
              "      <th>pm2.5</th>\n",
              "      <th>DEWP</th>\n",
              "      <th>TEMP</th>\n",
              "      <th>PRES</th>\n",
              "      <th>cbwd</th>\n",
              "      <th>Iws</th>\n",
              "      <th>Is</th>\n",
              "      <th>Ir</th>\n",
              "    </tr>\n",
              "    <tr>\n",
              "      <th>year_month_day_hour</th>\n",
              "      <th></th>\n",
              "      <th></th>\n",
              "      <th></th>\n",
              "      <th></th>\n",
              "      <th></th>\n",
              "      <th></th>\n",
              "      <th></th>\n",
              "      <th></th>\n",
              "    </tr>\n",
              "  </thead>\n",
              "  <tbody>\n",
              "    <tr>\n",
              "      <th>2010-01-02 01:00:00</th>\n",
              "      <td>129.0</td>\n",
              "      <td>-16.0</td>\n",
              "      <td>-4.0</td>\n",
              "      <td>1020.0</td>\n",
              "      <td>SE</td>\n",
              "      <td>1.79</td>\n",
              "      <td>0.0</td>\n",
              "      <td>0.0</td>\n",
              "    </tr>\n",
              "    <tr>\n",
              "      <th>2010-01-02 02:00:00</th>\n",
              "      <td>148.0</td>\n",
              "      <td>-15.0</td>\n",
              "      <td>-4.0</td>\n",
              "      <td>1020.0</td>\n",
              "      <td>SE</td>\n",
              "      <td>2.68</td>\n",
              "      <td>0.0</td>\n",
              "      <td>0.0</td>\n",
              "    </tr>\n",
              "    <tr>\n",
              "      <th>2010-01-02 03:00:00</th>\n",
              "      <td>159.0</td>\n",
              "      <td>-11.0</td>\n",
              "      <td>-5.0</td>\n",
              "      <td>1021.0</td>\n",
              "      <td>SE</td>\n",
              "      <td>3.57</td>\n",
              "      <td>0.0</td>\n",
              "      <td>0.0</td>\n",
              "    </tr>\n",
              "    <tr>\n",
              "      <th>2010-01-02 04:00:00</th>\n",
              "      <td>181.0</td>\n",
              "      <td>-7.0</td>\n",
              "      <td>-5.0</td>\n",
              "      <td>1022.0</td>\n",
              "      <td>SE</td>\n",
              "      <td>5.36</td>\n",
              "      <td>1.0</td>\n",
              "      <td>0.0</td>\n",
              "    </tr>\n",
              "    <tr>\n",
              "      <th>2010-01-02 05:00:00</th>\n",
              "      <td>138.0</td>\n",
              "      <td>-7.0</td>\n",
              "      <td>-5.0</td>\n",
              "      <td>1022.0</td>\n",
              "      <td>SE</td>\n",
              "      <td>6.25</td>\n",
              "      <td>2.0</td>\n",
              "      <td>0.0</td>\n",
              "    </tr>\n",
              "  </tbody>\n",
              "</table>\n",
              "</div>"
            ],
            "text/plain": [
              "                     pm2.5  DEWP  TEMP    PRES cbwd   Iws   Is   Ir\n",
              "year_month_day_hour                                                \n",
              "2010-01-02 01:00:00  129.0 -16.0  -4.0  1020.0   SE  1.79  0.0  0.0\n",
              "2010-01-02 02:00:00  148.0 -15.0  -4.0  1020.0   SE  2.68  0.0  0.0\n",
              "2010-01-02 03:00:00  159.0 -11.0  -5.0  1021.0   SE  3.57  0.0  0.0\n",
              "2010-01-02 04:00:00  181.0  -7.0  -5.0  1022.0   SE  5.36  1.0  0.0\n",
              "2010-01-02 05:00:00  138.0  -7.0  -5.0  1022.0   SE  6.25  2.0  0.0"
            ]
          },
          "execution_count": 17,
          "metadata": {},
          "output_type": "execute_result"
        }
      ]
    },
    {
      "cell_type": "code",
      "metadata": {
        "colab": {
          "base_uri": "https://localhost:8080/"
        },
        "id": "VsTWDZCPfeXS",
        "outputId": "52063222-1721-47e8-eee4-dc322854b473"
      },
      "source": [
        "from sklearn.preprocessing import OneHotEncoder,MinMaxScaler\n",
        "from sklearn.compose import ColumnTransformer\n",
        "transformer = ColumnTransformer([('ohe',OneHotEncoder(),[4]),\n",
        "                                  ('mm',MinMaxScaler(),[0,1,2,3,5,6,7])])\n",
        "transformer.fit(df2)\n",
        "df3 = transformer.transform(df2)\n",
        "df3.shape"
      ],
      "execution_count": null,
      "outputs": [
        {
          "data": {
            "text/plain": [
              "(43799, 11)"
            ]
          },
          "execution_count": 18,
          "metadata": {},
          "output_type": "execute_result"
        }
      ]
    },
    {
      "cell_type": "code",
      "metadata": {
        "colab": {
          "base_uri": "https://localhost:8080/"
        },
        "id": "ln8rgjOcg84F",
        "outputId": "04087d83-c733-4b66-d54b-660b5b46c152"
      },
      "source": [
        "y.shape"
      ],
      "execution_count": null,
      "outputs": [
        {
          "data": {
            "text/plain": [
              "(43800,)"
            ]
          },
          "execution_count": 19,
          "metadata": {},
          "output_type": "execute_result"
        }
      ]
    },
    {
      "cell_type": "code",
      "metadata": {
        "colab": {
          "base_uri": "https://localhost:8080/"
        },
        "id": "_NXYvvuihp6c",
        "outputId": "1e158dea-de13-405d-f67b-fe8b4a995736"
      },
      "source": [
        "y = y[1:]\n",
        "y.shape"
      ],
      "execution_count": null,
      "outputs": [
        {
          "data": {
            "text/plain": [
              "(43799,)"
            ]
          },
          "execution_count": 20,
          "metadata": {},
          "output_type": "execute_result"
        }
      ]
    },
    {
      "cell_type": "code",
      "metadata": {
        "colab": {
          "base_uri": "https://localhost:8080/",
          "height": 206
        },
        "id": "QiqHfR69jGHM",
        "outputId": "8dd0d673-fa34-4202-8ee1-cb3fb67ca914"
      },
      "source": [
        "pd.DataFrame(df3).head()"
      ],
      "execution_count": null,
      "outputs": [
        {
          "data": {
            "text/html": [
              "<div>\n",
              "<style scoped>\n",
              "    .dataframe tbody tr th:only-of-type {\n",
              "        vertical-align: middle;\n",
              "    }\n",
              "\n",
              "    .dataframe tbody tr th {\n",
              "        vertical-align: top;\n",
              "    }\n",
              "\n",
              "    .dataframe thead th {\n",
              "        text-align: right;\n",
              "    }\n",
              "</style>\n",
              "<table border=\"1\" class=\"dataframe\">\n",
              "  <thead>\n",
              "    <tr style=\"text-align: right;\">\n",
              "      <th></th>\n",
              "      <th>0</th>\n",
              "      <th>1</th>\n",
              "      <th>2</th>\n",
              "      <th>3</th>\n",
              "      <th>4</th>\n",
              "      <th>5</th>\n",
              "      <th>6</th>\n",
              "      <th>7</th>\n",
              "      <th>8</th>\n",
              "      <th>9</th>\n",
              "      <th>10</th>\n",
              "    </tr>\n",
              "  </thead>\n",
              "  <tbody>\n",
              "    <tr>\n",
              "      <th>0</th>\n",
              "      <td>0.0</td>\n",
              "      <td>0.0</td>\n",
              "      <td>1.0</td>\n",
              "      <td>0.0</td>\n",
              "      <td>0.129779</td>\n",
              "      <td>0.352941</td>\n",
              "      <td>0.245902</td>\n",
              "      <td>0.527273</td>\n",
              "      <td>0.002290</td>\n",
              "      <td>0.000000</td>\n",
              "      <td>0.0</td>\n",
              "    </tr>\n",
              "    <tr>\n",
              "      <th>1</th>\n",
              "      <td>0.0</td>\n",
              "      <td>0.0</td>\n",
              "      <td>1.0</td>\n",
              "      <td>0.0</td>\n",
              "      <td>0.148893</td>\n",
              "      <td>0.367647</td>\n",
              "      <td>0.245902</td>\n",
              "      <td>0.527273</td>\n",
              "      <td>0.003811</td>\n",
              "      <td>0.000000</td>\n",
              "      <td>0.0</td>\n",
              "    </tr>\n",
              "    <tr>\n",
              "      <th>2</th>\n",
              "      <td>0.0</td>\n",
              "      <td>0.0</td>\n",
              "      <td>1.0</td>\n",
              "      <td>0.0</td>\n",
              "      <td>0.159960</td>\n",
              "      <td>0.426471</td>\n",
              "      <td>0.229508</td>\n",
              "      <td>0.545455</td>\n",
              "      <td>0.005332</td>\n",
              "      <td>0.000000</td>\n",
              "      <td>0.0</td>\n",
              "    </tr>\n",
              "    <tr>\n",
              "      <th>3</th>\n",
              "      <td>0.0</td>\n",
              "      <td>0.0</td>\n",
              "      <td>1.0</td>\n",
              "      <td>0.0</td>\n",
              "      <td>0.182093</td>\n",
              "      <td>0.485294</td>\n",
              "      <td>0.229508</td>\n",
              "      <td>0.563636</td>\n",
              "      <td>0.008391</td>\n",
              "      <td>0.037037</td>\n",
              "      <td>0.0</td>\n",
              "    </tr>\n",
              "    <tr>\n",
              "      <th>4</th>\n",
              "      <td>0.0</td>\n",
              "      <td>0.0</td>\n",
              "      <td>1.0</td>\n",
              "      <td>0.0</td>\n",
              "      <td>0.138833</td>\n",
              "      <td>0.485294</td>\n",
              "      <td>0.229508</td>\n",
              "      <td>0.563636</td>\n",
              "      <td>0.009912</td>\n",
              "      <td>0.074074</td>\n",
              "      <td>0.0</td>\n",
              "    </tr>\n",
              "  </tbody>\n",
              "</table>\n",
              "</div>"
            ],
            "text/plain": [
              "    0    1    2    3         4   ...        6         7         8         9    10\n",
              "0  0.0  0.0  1.0  0.0  0.129779  ...  0.245902  0.527273  0.002290  0.000000  0.0\n",
              "1  0.0  0.0  1.0  0.0  0.148893  ...  0.245902  0.527273  0.003811  0.000000  0.0\n",
              "2  0.0  0.0  1.0  0.0  0.159960  ...  0.229508  0.545455  0.005332  0.000000  0.0\n",
              "3  0.0  0.0  1.0  0.0  0.182093  ...  0.229508  0.563636  0.008391  0.037037  0.0\n",
              "4  0.0  0.0  1.0  0.0  0.138833  ...  0.229508  0.563636  0.009912  0.074074  0.0\n",
              "\n",
              "[5 rows x 11 columns]"
            ]
          },
          "execution_count": 21,
          "metadata": {},
          "output_type": "execute_result"
        }
      ]
    },
    {
      "cell_type": "code",
      "metadata": {
        "colab": {
          "base_uri": "https://localhost:8080/"
        },
        "id": "YeygyricjK-g",
        "outputId": "43257788-69d3-484b-df91-5f18602ceeaf"
      },
      "source": [
        "y.head()"
      ],
      "execution_count": null,
      "outputs": [
        {
          "data": {
            "text/plain": [
              "year_month_day_hour\n",
              "2010-01-02 01:00:00    148.0\n",
              "2010-01-02 02:00:00    159.0\n",
              "2010-01-02 03:00:00    181.0\n",
              "2010-01-02 04:00:00    138.0\n",
              "2010-01-02 05:00:00    109.0\n",
              "Name: pm2.5, dtype: float64"
            ]
          },
          "execution_count": 22,
          "metadata": {},
          "output_type": "execute_result"
        }
      ]
    },
    {
      "cell_type": "code",
      "metadata": {
        "colab": {
          "base_uri": "https://localhost:8080/"
        },
        "id": "ncO6k0x2jL77",
        "outputId": "7c259976-b95e-41d2-98fa-8e768cfd9deb"
      },
      "source": [
        "df3.shape"
      ],
      "execution_count": null,
      "outputs": [
        {
          "data": {
            "text/plain": [
              "(43799, 11)"
            ]
          },
          "execution_count": 23,
          "metadata": {},
          "output_type": "execute_result"
        }
      ]
    },
    {
      "cell_type": "code",
      "metadata": {
        "colab": {
          "base_uri": "https://localhost:8080/"
        },
        "id": "BXcF2nNCj9MS",
        "outputId": "79ac93af-8eac-40ea-826c-27bc39093be6"
      },
      "source": [
        "# samples, timestamps, features\n",
        "df3 = df3.reshape(-1,1,11)\n",
        "df3.shape"
      ],
      "execution_count": null,
      "outputs": [
        {
          "data": {
            "text/plain": [
              "(43799, 1, 11)"
            ]
          },
          "execution_count": 24,
          "metadata": {},
          "output_type": "execute_result"
        }
      ]
    },
    {
      "cell_type": "markdown",
      "metadata": {
        "id": "t4mR8DGmkSzi"
      },
      "source": [
        "## Modelling of LSTM network"
      ]
    },
    {
      "cell_type": "code",
      "metadata": {
        "id": "pdsjWRVIkH5a"
      },
      "source": [
        "from tensorflow.keras import models,layers"
      ],
      "execution_count": null,
      "outputs": []
    },
    {
      "cell_type": "code",
      "metadata": {
        "colab": {
          "base_uri": "https://localhost:8080/"
        },
        "id": "3Smvt0pPkZkE",
        "outputId": "e2c4d59a-6dd8-43b4-92dc-5610617dd9b3"
      },
      "source": [
        "ip_layer = layers.Input(shape=(1,11))\n",
        "lstm_layer = layers.LSTM(25,activation='relu')(ip_layer)\n",
        "op = layers.Dense(1)(lstm_layer)\n",
        "\n",
        "model = models.Model(inputs=ip_layer,outputs=op)\n",
        "model.compile(loss='mae',optimizer='adam')\n",
        "model.fit(df3,y,batch_size=360,epochs=20,shuffle=False)"
      ],
      "execution_count": null,
      "outputs": [
        {
          "name": "stdout",
          "output_type": "stream",
          "text": [
            "WARNING:tensorflow:Layer lstm will not use cuDNN kernels since it doesn't meet the criteria. It will use a generic GPU kernel as fallback when running on GPU.\n",
            "Epoch 1/20\n",
            "122/122 [==============================] - 5s 6ms/step - loss: 93.5947\n",
            "Epoch 2/20\n",
            "122/122 [==============================] - 1s 6ms/step - loss: 90.9473\n",
            "Epoch 3/20\n",
            "122/122 [==============================] - 1s 6ms/step - loss: 84.1770\n",
            "Epoch 4/20\n",
            "122/122 [==============================] - 1s 6ms/step - loss: 76.3290\n",
            "Epoch 5/20\n",
            "122/122 [==============================] - 1s 6ms/step - loss: 70.0509\n",
            "Epoch 6/20\n",
            "122/122 [==============================] - 1s 6ms/step - loss: 65.6764\n",
            "Epoch 7/20\n",
            "122/122 [==============================] - 1s 6ms/step - loss: 63.0060\n",
            "Epoch 8/20\n",
            "122/122 [==============================] - 1s 6ms/step - loss: 61.3680\n",
            "Epoch 9/20\n",
            "122/122 [==============================] - 1s 6ms/step - loss: 60.1023\n",
            "Epoch 10/20\n",
            "122/122 [==============================] - 1s 7ms/step - loss: 58.9587\n",
            "Epoch 11/20\n",
            "122/122 [==============================] - 1s 6ms/step - loss: 57.9298\n",
            "Epoch 12/20\n",
            "122/122 [==============================] - 1s 6ms/step - loss: 57.0819\n",
            "Epoch 13/20\n",
            "122/122 [==============================] - 1s 6ms/step - loss: 56.4142\n",
            "Epoch 14/20\n",
            "122/122 [==============================] - 1s 6ms/step - loss: 55.8525\n",
            "Epoch 15/20\n",
            "122/122 [==============================] - 1s 6ms/step - loss: 55.3351\n",
            "Epoch 16/20\n",
            "122/122 [==============================] - 1s 7ms/step - loss: 54.8306\n",
            "Epoch 17/20\n",
            "122/122 [==============================] - 1s 6ms/step - loss: 54.3168\n",
            "Epoch 18/20\n",
            "122/122 [==============================] - 1s 6ms/step - loss: 53.7807\n",
            "Epoch 19/20\n",
            "122/122 [==============================] - 1s 6ms/step - loss: 53.2030\n",
            "Epoch 20/20\n",
            "122/122 [==============================] - 1s 7ms/step - loss: 52.5738\n"
          ]
        },
        {
          "data": {
            "text/plain": [
              "<keras.callbacks.History at 0x7f1b5074d550>"
            ]
          },
          "execution_count": 26,
          "metadata": {},
          "output_type": "execute_result"
        }
      ]
    },
    {
      "cell_type": "code",
      "metadata": {
        "colab": {
          "base_uri": "https://localhost:8080/"
        },
        "id": "7VXKJbtEmULX",
        "outputId": "38458463-df1a-4103-f90e-dae273257b34"
      },
      "source": [
        "model.summary()"
      ],
      "execution_count": null,
      "outputs": [
        {
          "name": "stdout",
          "output_type": "stream",
          "text": [
            "Model: \"model\"\n",
            "_________________________________________________________________\n",
            "Layer (type)                 Output Shape              Param #   \n",
            "=================================================================\n",
            "input_1 (InputLayer)         [(None, 1, 11)]           0         \n",
            "_________________________________________________________________\n",
            "lstm (LSTM)                  (None, 25)                3700      \n",
            "_________________________________________________________________\n",
            "dense (Dense)                (None, 1)                 26        \n",
            "=================================================================\n",
            "Total params: 3,726\n",
            "Trainable params: 3,726\n",
            "Non-trainable params: 0\n",
            "_________________________________________________________________\n"
          ]
        }
      ]
    },
    {
      "cell_type": "code",
      "metadata": {
        "colab": {
          "base_uri": "https://localhost:8080/"
        },
        "id": "i6bgiTuBlJ_d",
        "outputId": "6b90e11b-d772-4ef5-e5ce-b075323e88ec"
      },
      "source": [
        "model.fit(df3,y,batch_size=720,epochs=10,shuffle=False)"
      ],
      "execution_count": null,
      "outputs": [
        {
          "name": "stdout",
          "output_type": "stream",
          "text": [
            "Epoch 1/10\n",
            "61/61 [==============================] - 0s 7ms/step - loss: 52.0344\n",
            "Epoch 2/10\n",
            "61/61 [==============================] - 0s 7ms/step - loss: 51.6700\n",
            "Epoch 3/10\n",
            "61/61 [==============================] - 0s 7ms/step - loss: 51.2873\n",
            "Epoch 4/10\n",
            "61/61 [==============================] - 0s 7ms/step - loss: 50.8837\n",
            "Epoch 5/10\n",
            "61/61 [==============================] - 0s 7ms/step - loss: 50.4568\n",
            "Epoch 6/10\n",
            "61/61 [==============================] - 0s 6ms/step - loss: 50.0040\n",
            "Epoch 7/10\n",
            "61/61 [==============================] - 0s 6ms/step - loss: 49.5243\n",
            "Epoch 8/10\n",
            "61/61 [==============================] - 0s 7ms/step - loss: 49.0161\n",
            "Epoch 9/10\n",
            "61/61 [==============================] - 0s 6ms/step - loss: 48.4799\n",
            "Epoch 10/10\n",
            "61/61 [==============================] - 0s 7ms/step - loss: 47.9133\n"
          ]
        },
        {
          "data": {
            "text/plain": [
              "<keras.callbacks.History at 0x7f1b505ee250>"
            ]
          },
          "execution_count": 28,
          "metadata": {},
          "output_type": "execute_result"
        }
      ]
    },
    {
      "cell_type": "code",
      "metadata": {
        "colab": {
          "base_uri": "https://localhost:8080/"
        },
        "id": "eG1dqnYMlRKY",
        "outputId": "a5ae175c-b72c-417d-cbe9-e36bcd4d57b6"
      },
      "source": [
        "model.fit(df3,y,batch_size=1440,epochs=20,shuffle=False)"
      ],
      "execution_count": null,
      "outputs": [
        {
          "name": "stdout",
          "output_type": "stream",
          "text": [
            "Epoch 1/20\n",
            "31/31 [==============================] - 0s 7ms/step - loss: 47.4505\n",
            "Epoch 2/20\n",
            "31/31 [==============================] - 0s 6ms/step - loss: 47.1403\n",
            "Epoch 3/20\n",
            "31/31 [==============================] - 0s 7ms/step - loss: 46.8168\n",
            "Epoch 4/20\n",
            "31/31 [==============================] - 0s 7ms/step - loss: 46.4849\n",
            "Epoch 5/20\n",
            "31/31 [==============================] - 0s 7ms/step - loss: 46.1437\n",
            "Epoch 6/20\n",
            "31/31 [==============================] - 0s 7ms/step - loss: 45.7921\n",
            "Epoch 7/20\n",
            "31/31 [==============================] - 0s 6ms/step - loss: 45.4308\n",
            "Epoch 8/20\n",
            "31/31 [==============================] - 0s 7ms/step - loss: 45.0597\n",
            "Epoch 9/20\n",
            "31/31 [==============================] - 0s 7ms/step - loss: 44.6783\n",
            "Epoch 10/20\n",
            "31/31 [==============================] - 0s 6ms/step - loss: 44.2855\n",
            "Epoch 11/20\n",
            "31/31 [==============================] - 0s 6ms/step - loss: 43.8790\n",
            "Epoch 12/20\n",
            "31/31 [==============================] - 0s 6ms/step - loss: 43.4617\n",
            "Epoch 13/20\n",
            "31/31 [==============================] - 0s 7ms/step - loss: 43.0334\n",
            "Epoch 14/20\n",
            "31/31 [==============================] - 0s 7ms/step - loss: 42.5946\n",
            "Epoch 15/20\n",
            "31/31 [==============================] - 0s 6ms/step - loss: 42.1466\n",
            "Epoch 16/20\n",
            "31/31 [==============================] - 0s 6ms/step - loss: 41.6892\n",
            "Epoch 17/20\n",
            "31/31 [==============================] - 0s 6ms/step - loss: 41.2223\n",
            "Epoch 18/20\n",
            "31/31 [==============================] - 0s 7ms/step - loss: 40.7461\n",
            "Epoch 19/20\n",
            "31/31 [==============================] - 0s 6ms/step - loss: 40.2611\n",
            "Epoch 20/20\n",
            "31/31 [==============================] - 0s 7ms/step - loss: 39.7667\n"
          ]
        },
        {
          "data": {
            "text/plain": [
              "<keras.callbacks.History at 0x7f1b50248d90>"
            ]
          },
          "execution_count": 29,
          "metadata": {},
          "output_type": "execute_result"
        }
      ]
    },
    {
      "cell_type": "code",
      "metadata": {
        "id": "wSHlf5THlc5V"
      },
      "source": [
        "df4 = df.copy()\n",
        "df4.index = df4.year_month_day_hour\n",
        "df4.drop(columns=['year_month_day_hour'],inplace=True)"
      ],
      "execution_count": null,
      "outputs": []
    },
    {
      "cell_type": "code",
      "metadata": {
        "colab": {
          "base_uri": "https://localhost:8080/"
        },
        "id": "UnxRfqQendIo",
        "outputId": "95f9d680-4faa-48fb-e5fc-10fbe7b8e7c8"
      },
      "source": [
        "df4.columns"
      ],
      "execution_count": null,
      "outputs": [
        {
          "data": {
            "text/plain": [
              "Index(['pm2.5', 'DEWP', 'TEMP', 'PRES', 'cbwd', 'Iws', 'Is', 'Ir'], dtype='object')"
            ]
          },
          "execution_count": 31,
          "metadata": {},
          "output_type": "execute_result"
        }
      ]
    },
    {
      "cell_type": "code",
      "metadata": {
        "colab": {
          "base_uri": "https://localhost:8080/",
          "height": 237
        },
        "id": "JWdZPGzNnfFP",
        "outputId": "b2c2fe0d-dba3-45c2-84b4-6843fb9e0c07"
      },
      "source": [
        "df4.head()"
      ],
      "execution_count": null,
      "outputs": [
        {
          "data": {
            "text/html": [
              "<div>\n",
              "<style scoped>\n",
              "    .dataframe tbody tr th:only-of-type {\n",
              "        vertical-align: middle;\n",
              "    }\n",
              "\n",
              "    .dataframe tbody tr th {\n",
              "        vertical-align: top;\n",
              "    }\n",
              "\n",
              "    .dataframe thead th {\n",
              "        text-align: right;\n",
              "    }\n",
              "</style>\n",
              "<table border=\"1\" class=\"dataframe\">\n",
              "  <thead>\n",
              "    <tr style=\"text-align: right;\">\n",
              "      <th></th>\n",
              "      <th>pm2.5</th>\n",
              "      <th>DEWP</th>\n",
              "      <th>TEMP</th>\n",
              "      <th>PRES</th>\n",
              "      <th>cbwd</th>\n",
              "      <th>Iws</th>\n",
              "      <th>Is</th>\n",
              "      <th>Ir</th>\n",
              "    </tr>\n",
              "    <tr>\n",
              "      <th>year_month_day_hour</th>\n",
              "      <th></th>\n",
              "      <th></th>\n",
              "      <th></th>\n",
              "      <th></th>\n",
              "      <th></th>\n",
              "      <th></th>\n",
              "      <th></th>\n",
              "      <th></th>\n",
              "    </tr>\n",
              "  </thead>\n",
              "  <tbody>\n",
              "    <tr>\n",
              "      <th>2010-01-02 00:00:00</th>\n",
              "      <td>129.0</td>\n",
              "      <td>-16</td>\n",
              "      <td>-4.0</td>\n",
              "      <td>1020.0</td>\n",
              "      <td>SE</td>\n",
              "      <td>1.79</td>\n",
              "      <td>0</td>\n",
              "      <td>0</td>\n",
              "    </tr>\n",
              "    <tr>\n",
              "      <th>2010-01-02 01:00:00</th>\n",
              "      <td>148.0</td>\n",
              "      <td>-15</td>\n",
              "      <td>-4.0</td>\n",
              "      <td>1020.0</td>\n",
              "      <td>SE</td>\n",
              "      <td>2.68</td>\n",
              "      <td>0</td>\n",
              "      <td>0</td>\n",
              "    </tr>\n",
              "    <tr>\n",
              "      <th>2010-01-02 02:00:00</th>\n",
              "      <td>159.0</td>\n",
              "      <td>-11</td>\n",
              "      <td>-5.0</td>\n",
              "      <td>1021.0</td>\n",
              "      <td>SE</td>\n",
              "      <td>3.57</td>\n",
              "      <td>0</td>\n",
              "      <td>0</td>\n",
              "    </tr>\n",
              "    <tr>\n",
              "      <th>2010-01-02 03:00:00</th>\n",
              "      <td>181.0</td>\n",
              "      <td>-7</td>\n",
              "      <td>-5.0</td>\n",
              "      <td>1022.0</td>\n",
              "      <td>SE</td>\n",
              "      <td>5.36</td>\n",
              "      <td>1</td>\n",
              "      <td>0</td>\n",
              "    </tr>\n",
              "    <tr>\n",
              "      <th>2010-01-02 04:00:00</th>\n",
              "      <td>138.0</td>\n",
              "      <td>-7</td>\n",
              "      <td>-5.0</td>\n",
              "      <td>1022.0</td>\n",
              "      <td>SE</td>\n",
              "      <td>6.25</td>\n",
              "      <td>2</td>\n",
              "      <td>0</td>\n",
              "    </tr>\n",
              "  </tbody>\n",
              "</table>\n",
              "</div>"
            ],
            "text/plain": [
              "                     pm2.5  DEWP  TEMP    PRES cbwd   Iws  Is  Ir\n",
              "year_month_day_hour                                              \n",
              "2010-01-02 00:00:00  129.0   -16  -4.0  1020.0   SE  1.79   0   0\n",
              "2010-01-02 01:00:00  148.0   -15  -4.0  1020.0   SE  2.68   0   0\n",
              "2010-01-02 02:00:00  159.0   -11  -5.0  1021.0   SE  3.57   0   0\n",
              "2010-01-02 03:00:00  181.0    -7  -5.0  1022.0   SE  5.36   1   0\n",
              "2010-01-02 04:00:00  138.0    -7  -5.0  1022.0   SE  6.25   2   0"
            ]
          },
          "execution_count": 32,
          "metadata": {},
          "output_type": "execute_result"
        }
      ]
    },
    {
      "cell_type": "code",
      "metadata": {
        "colab": {
          "base_uri": "https://localhost:8080/",
          "height": 1000
        },
        "id": "sitOyWy6ngcX",
        "outputId": "48b21d04-6e76-4e22-de77-f95ac0fc696f"
      },
      "source": [
        "plt.figure(figsize=(15,20))\n",
        "for i in range(len(df4.columns)):\n",
        "  plt.subplot(len(df4.columns),1,i+1)\n",
        "  plt.plot(df4[df4.columns[i]])\n",
        "  plt.title(df4.columns[i])\n",
        "plt.show()"
      ],
      "execution_count": null,
      "outputs": [
        {
          "data": {
            "image/png": "[encoded data removed]",
            "text/plain": [
              "<Figure size 1080x1440 with 8 Axes>"
            ]
          },
          "metadata": {},
          "output_type": "display_data"
        }
      ]
    },
    {
      "cell_type": "code",
      "metadata": {
        "colab": {
          "base_uri": "https://localhost:8080/",
          "height": 237
        },
        "id": "yr9LD_ZkvUq4",
        "outputId": "c6569282-f7af-4855-f30e-a4ff46f9686a"
      },
      "source": [
        "df4.head()"
      ],
      "execution_count": null,
      "outputs": [
        {
          "data": {
            "text/html": [
              "<div>\n",
              "<style scoped>\n",
              "    .dataframe tbody tr th:only-of-type {\n",
              "        vertical-align: middle;\n",
              "    }\n",
              "\n",
              "    .dataframe tbody tr th {\n",
              "        vertical-align: top;\n",
              "    }\n",
              "\n",
              "    .dataframe thead th {\n",
              "        text-align: right;\n",
              "    }\n",
              "</style>\n",
              "<table border=\"1\" class=\"dataframe\">\n",
              "  <thead>\n",
              "    <tr style=\"text-align: right;\">\n",
              "      <th></th>\n",
              "      <th>pm2.5</th>\n",
              "      <th>DEWP</th>\n",
              "      <th>TEMP</th>\n",
              "      <th>PRES</th>\n",
              "      <th>cbwd</th>\n",
              "      <th>Iws</th>\n",
              "      <th>Is</th>\n",
              "      <th>Ir</th>\n",
              "    </tr>\n",
              "    <tr>\n",
              "      <th>year_month_day_hour</th>\n",
              "      <th></th>\n",
              "      <th></th>\n",
              "      <th></th>\n",
              "      <th></th>\n",
              "      <th></th>\n",
              "      <th></th>\n",
              "      <th></th>\n",
              "      <th></th>\n",
              "    </tr>\n",
              "  </thead>\n",
              "  <tbody>\n",
              "    <tr>\n",
              "      <th>2010-01-02 00:00:00</th>\n",
              "      <td>129.0</td>\n",
              "      <td>-16</td>\n",
              "      <td>-4.0</td>\n",
              "      <td>1020.0</td>\n",
              "      <td>SE</td>\n",
              "      <td>1.79</td>\n",
              "      <td>0</td>\n",
              "      <td>0</td>\n",
              "    </tr>\n",
              "    <tr>\n",
              "      <th>2010-01-02 01:00:00</th>\n",
              "      <td>148.0</td>\n",
              "      <td>-15</td>\n",
              "      <td>-4.0</td>\n",
              "      <td>1020.0</td>\n",
              "      <td>SE</td>\n",
              "      <td>2.68</td>\n",
              "      <td>0</td>\n",
              "      <td>0</td>\n",
              "    </tr>\n",
              "    <tr>\n",
              "      <th>2010-01-02 02:00:00</th>\n",
              "      <td>159.0</td>\n",
              "      <td>-11</td>\n",
              "      <td>-5.0</td>\n",
              "      <td>1021.0</td>\n",
              "      <td>SE</td>\n",
              "      <td>3.57</td>\n",
              "      <td>0</td>\n",
              "      <td>0</td>\n",
              "    </tr>\n",
              "    <tr>\n",
              "      <th>2010-01-02 03:00:00</th>\n",
              "      <td>181.0</td>\n",
              "      <td>-7</td>\n",
              "      <td>-5.0</td>\n",
              "      <td>1022.0</td>\n",
              "      <td>SE</td>\n",
              "      <td>5.36</td>\n",
              "      <td>1</td>\n",
              "      <td>0</td>\n",
              "    </tr>\n",
              "    <tr>\n",
              "      <th>2010-01-02 04:00:00</th>\n",
              "      <td>138.0</td>\n",
              "      <td>-7</td>\n",
              "      <td>-5.0</td>\n",
              "      <td>1022.0</td>\n",
              "      <td>SE</td>\n",
              "      <td>6.25</td>\n",
              "      <td>2</td>\n",
              "      <td>0</td>\n",
              "    </tr>\n",
              "  </tbody>\n",
              "</table>\n",
              "</div>"
            ],
            "text/plain": [
              "                     pm2.5  DEWP  TEMP    PRES cbwd   Iws  Is  Ir\n",
              "year_month_day_hour                                              \n",
              "2010-01-02 00:00:00  129.0   -16  -4.0  1020.0   SE  1.79   0   0\n",
              "2010-01-02 01:00:00  148.0   -15  -4.0  1020.0   SE  2.68   0   0\n",
              "2010-01-02 02:00:00  159.0   -11  -5.0  1021.0   SE  3.57   0   0\n",
              "2010-01-02 03:00:00  181.0    -7  -5.0  1022.0   SE  5.36   1   0\n",
              "2010-01-02 04:00:00  138.0    -7  -5.0  1022.0   SE  6.25   2   0"
            ]
          },
          "execution_count": 34,
          "metadata": {},
          "output_type": "execute_result"
        }
      ]
    },
    {
      "cell_type": "code",
      "metadata": {
        "colab": {
          "base_uri": "https://localhost:8080/"
        },
        "id": "oj8OGDUlwgHb",
        "outputId": "eed26e4f-98ed-49b7-caaa-4c08a516f4ac"
      },
      "source": [
        "df4.columns"
      ],
      "execution_count": null,
      "outputs": [
        {
          "data": {
            "text/plain": [
              "Index(['pm2.5', 'DEWP', 'TEMP', 'PRES', 'cbwd', 'Iws', 'Is', 'Ir'], dtype='object')"
            ]
          },
          "execution_count": 35,
          "metadata": {},
          "output_type": "execute_result"
        }
      ]
    },
    {
      "cell_type": "code",
      "metadata": {
        "colab": {
          "base_uri": "https://localhost:8080/",
          "height": 237
        },
        "id": "gGWmfJW4vjNY",
        "outputId": "8f073f97-c2f4-4438-8bac-0e841a2b150c"
      },
      "source": [
        "from sklearn.preprocessing import LabelEncoder,MinMaxScaler\n",
        "le = LabelEncoder()\n",
        "df4['cbwd'] = le.fit_transform(df['cbwd'])\n",
        "mm = MinMaxScaler()\n",
        "df4[['pm2.5', 'DEWP', 'TEMP', 'PRES', 'Iws', 'Is', 'Ir']] = mm.fit_transform(df4[['pm2.5', 'DEWP', 'TEMP', 'PRES', 'Iws', 'Is', 'Ir']])\n",
        "df4.head()"
      ],
      "execution_count": null,
      "outputs": [
        {
          "data": {
            "text/html": [
              "<div>\n",
              "<style scoped>\n",
              "    .dataframe tbody tr th:only-of-type {\n",
              "        vertical-align: middle;\n",
              "    }\n",
              "\n",
              "    .dataframe tbody tr th {\n",
              "        vertical-align: top;\n",
              "    }\n",
              "\n",
              "    .dataframe thead th {\n",
              "        text-align: right;\n",
              "    }\n",
              "</style>\n",
              "<table border=\"1\" class=\"dataframe\">\n",
              "  <thead>\n",
              "    <tr style=\"text-align: right;\">\n",
              "      <th></th>\n",
              "      <th>pm2.5</th>\n",
              "      <th>DEWP</th>\n",
              "      <th>TEMP</th>\n",
              "      <th>PRES</th>\n",
              "      <th>cbwd</th>\n",
              "      <th>Iws</th>\n",
              "      <th>Is</th>\n",
              "      <th>Ir</th>\n",
              "    </tr>\n",
              "    <tr>\n",
              "      <th>year_month_day_hour</th>\n",
              "      <th></th>\n",
              "      <th></th>\n",
              "      <th></th>\n",
              "      <th></th>\n",
              "      <th></th>\n",
              "      <th></th>\n",
              "      <th></th>\n",
              "      <th></th>\n",
              "    </tr>\n",
              "  </thead>\n",
              "  <tbody>\n",
              "    <tr>\n",
              "      <th>2010-01-02 00:00:00</th>\n",
              "      <td>0.129779</td>\n",
              "      <td>0.352941</td>\n",
              "      <td>0.245902</td>\n",
              "      <td>0.527273</td>\n",
              "      <td>2</td>\n",
              "      <td>0.002290</td>\n",
              "      <td>0.000000</td>\n",
              "      <td>0.0</td>\n",
              "    </tr>\n",
              "    <tr>\n",
              "      <th>2010-01-02 01:00:00</th>\n",
              "      <td>0.148893</td>\n",
              "      <td>0.367647</td>\n",
              "      <td>0.245902</td>\n",
              "      <td>0.527273</td>\n",
              "      <td>2</td>\n",
              "      <td>0.003811</td>\n",
              "      <td>0.000000</td>\n",
              "      <td>0.0</td>\n",
              "    </tr>\n",
              "    <tr>\n",
              "      <th>2010-01-02 02:00:00</th>\n",
              "      <td>0.159960</td>\n",
              "      <td>0.426471</td>\n",
              "      <td>0.229508</td>\n",
              "      <td>0.545455</td>\n",
              "      <td>2</td>\n",
              "      <td>0.005332</td>\n",
              "      <td>0.000000</td>\n",
              "      <td>0.0</td>\n",
              "    </tr>\n",
              "    <tr>\n",
              "      <th>2010-01-02 03:00:00</th>\n",
              "      <td>0.182093</td>\n",
              "      <td>0.485294</td>\n",
              "      <td>0.229508</td>\n",
              "      <td>0.563636</td>\n",
              "      <td>2</td>\n",
              "      <td>0.008391</td>\n",
              "      <td>0.037037</td>\n",
              "      <td>0.0</td>\n",
              "    </tr>\n",
              "    <tr>\n",
              "      <th>2010-01-02 04:00:00</th>\n",
              "      <td>0.138833</td>\n",
              "      <td>0.485294</td>\n",
              "      <td>0.229508</td>\n",
              "      <td>0.563636</td>\n",
              "      <td>2</td>\n",
              "      <td>0.009912</td>\n",
              "      <td>0.074074</td>\n",
              "      <td>0.0</td>\n",
              "    </tr>\n",
              "  </tbody>\n",
              "</table>\n",
              "</div>"
            ],
            "text/plain": [
              "                        pm2.5      DEWP      TEMP  ...       Iws        Is   Ir\n",
              "year_month_day_hour                                ...                         \n",
              "2010-01-02 00:00:00  0.129779  0.352941  0.245902  ...  0.002290  0.000000  0.0\n",
              "2010-01-02 01:00:00  0.148893  0.367647  0.245902  ...  0.003811  0.000000  0.0\n",
              "2010-01-02 02:00:00  0.159960  0.426471  0.229508  ...  0.005332  0.000000  0.0\n",
              "2010-01-02 03:00:00  0.182093  0.485294  0.229508  ...  0.008391  0.037037  0.0\n",
              "2010-01-02 04:00:00  0.138833  0.485294  0.229508  ...  0.009912  0.074074  0.0\n",
              "\n",
              "[5 rows x 8 columns]"
            ]
          },
          "execution_count": 36,
          "metadata": {},
          "output_type": "execute_result"
        }
      ]
    },
    {
      "cell_type": "markdown",
      "metadata": {
        "id": "RBN3Qpzkp5EO"
      },
      "source": [
        "# Sequence size = 24 (24 hours)"
      ]
    },
    {
      "cell_type": "code",
      "metadata": {
        "colab": {
          "base_uri": "https://localhost:8080/"
        },
        "id": "TSBzDwLbw0o_",
        "outputId": "8ee6d83e-e636-4e6b-8000-4acc91e7e1eb"
      },
      "source": [
        "df4.shape"
      ],
      "execution_count": null,
      "outputs": [
        {
          "data": {
            "text/plain": [
              "(43800, 8)"
            ]
          },
          "execution_count": 37,
          "metadata": {},
          "output_type": "execute_result"
        }
      ]
    },
    {
      "cell_type": "code",
      "metadata": {
        "id": "MAmGBC60n_gy"
      },
      "source": [
        "def split_sequence(sequence,n_steps):\n",
        "  x = []\n",
        "  y = []\n",
        "  for i in range(len(sequence)):\n",
        "    # get the end index of the pattern \n",
        "    end_ix = i + n_steps\n",
        "    # check if the iteration is beyond the size of sequence, break the loop\n",
        "    if end_ix > len(sequence)-1:\n",
        "      break\n",
        "    # collect the input and output parts of the pattern\n",
        "    seq_x, seq_y = sequence.iloc[i:end_ix],sequence.iloc[i,0]\n",
        "    x.append(seq_x)\n",
        "    y.append(seq_y)\n",
        "  return np.array(x),np.array(y)"
      ],
      "execution_count": null,
      "outputs": []
    },
    {
      "cell_type": "code",
      "metadata": {
        "colab": {
          "base_uri": "https://localhost:8080/"
        },
        "id": "jzr46jMixHNt",
        "outputId": "e499450c-13d5-47a7-e628-4e37e253744e"
      },
      "source": [
        "x,y = split_sequence(df4,n_steps=24)\n",
        "x.shape,y.shape"
      ],
      "execution_count": null,
      "outputs": [
        {
          "data": {
            "text/plain": [
              "((43776, 24, 8), (43776,))"
            ]
          },
          "execution_count": 39,
          "metadata": {},
          "output_type": "execute_result"
        }
      ]
    },
    {
      "cell_type": "code",
      "metadata": {
        "colab": {
          "base_uri": "https://localhost:8080/"
        },
        "id": "M3ztypLaxOiu",
        "outputId": "daf6889d-5ac9-4bcb-cc38-ee4de0f9c415"
      },
      "source": [
        "xtr,xts = x[:35020,:,:],x[35020:,:,:]\n",
        "ytr,yts = y[:35020],y[35020:]\n",
        "print(xtr.shape,xts.shape)\n",
        "print(ytr.shape,yts.shape)"
      ],
      "execution_count": null,
      "outputs": [
        {
          "name": "stdout",
          "output_type": "stream",
          "text": [
            "(35020, 24, 8) (8756, 24, 8)\n",
            "(35020,) (8756,)\n"
          ]
        }
      ]
    },
    {
      "cell_type": "markdown",
      "metadata": {
        "id": "7VvNEMVQyjQW"
      },
      "source": [
        "## Modelling the LSTM network"
      ]
    },
    {
      "cell_type": "code",
      "metadata": {
        "id": "S1w6jsy9ygc9"
      },
      "source": [
        "from tensorflow.keras import models,layers"
      ],
      "execution_count": null,
      "outputs": []
    },
    {
      "cell_type": "code",
      "metadata": {
        "colab": {
          "background_save": true,
          "base_uri": "https://localhost:8080/"
        },
        "id": "RKGpi9EwynjM",
        "outputId": "e2b2e3cc-5c79-4483-9da9-c49201388d9d"
      },
      "source": [
        "ip_layer = layers.Input(shape=(24,8))\n",
        "lstm_layer = layers.LSTM(400,activation='relu',return_sequences=True)(ip_layer)\n",
        "lstm_layer = layers.LSTM(600,activation='relu',return_sequences=False)(lstm_layer)\n",
        "\n",
        "op = layers.Dense(1)(lstm_layer)\n",
        "\n",
        "model = models.Model(inputs=ip_layer,outputs=op)\n",
        "model.compile(loss='mae',optimizer='adam')\n",
        "model.fit(xtr,ytr,batch_size=240,epochs=20,shuffle=False,validation_data=(xts,yts))"
      ],
      "execution_count": null,
      "outputs": [
        {
          "name": "stdout",
          "output_type": "stream",
          "text": [
            "Epoch 1/20\n",
            "146/146 [==============================] - 370s 3s/step - loss: 0.0625 - val_loss: 0.0874\n",
            "Epoch 2/20\n",
            "146/146 [==============================] - 370s 3s/step - loss: 0.0601 - val_loss: 0.0660\n",
            "Epoch 3/20\n",
            "146/146 [==============================] - 370s 3s/step - loss: 0.0619 - val_loss: 0.0827\n",
            "Epoch 4/20\n",
            "146/146 [==============================] - 367s 3s/step - loss: 0.0546 - val_loss: 0.0645\n",
            "Epoch 5/20\n",
            "146/146 [==============================] - 366s 3s/step - loss: 0.0603 - val_loss: 0.0605\n",
            "Epoch 6/20\n",
            "146/146 [==============================] - 366s 3s/step - loss: 0.0513 - val_loss: 0.0554\n",
            "Epoch 7/20\n",
            "146/146 [==============================] - 368s 3s/step - loss: 0.0486 - val_loss: 0.0615\n",
            "Epoch 8/20\n",
            "146/146 [==============================] - 366s 3s/step - loss: 0.0499 - val_loss: 0.0690\n",
            "Epoch 9/20\n",
            "146/146 [==============================] - 365s 3s/step - loss: 0.0529 - val_loss: 0.0526\n",
            "Epoch 10/20\n",
            "127/146 [=========================>....] - ETA: 43s - loss: 0.0415"
          ]
        }
      ]
    },
    {
      "cell_type": "code",
      "metadata": {
        "id": "yVF7_Yyl1roc"
      },
      "source": [
        ""
      ],
      "execution_count": null,
      "outputs": []
    },
    {
      "cell_type": "code",
      "metadata": {
        "id": "JEt5Nrc_zDfk"
      },
      "source": [
        ""
      ],
      "execution_count": null,
      "outputs": []
    }
  ]
}